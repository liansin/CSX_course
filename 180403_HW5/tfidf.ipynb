{
 "cells": [
  {
   "cell_type": "code",
   "execution_count": 37,
   "metadata": {},
   "outputs": [],
   "source": [
    "from snownlp import SnowNLP as sn\n",
    "import pandas as pd\n",
    "import jieba\n",
    "import sys\n",
    "from sklearn import feature_extraction\n",
    "from sklearn.feature_extraction.text import TfidfVectorizer\n",
    "\n",
    "jieba.set_dictionary('dict.txt.big.txt')#繁體詞庫\n",
    "#http://bruce3557.logdown.com/posts/291096/jieba-sklearn-calculation-of-chinese-tfidf"
   ]
  },
  {
   "cell_type": "markdown",
   "metadata": {},
   "source": [
    "- 標點刪除函式\n"
   ]
  },
  {
   "cell_type": "code",
   "execution_count": 38,
   "metadata": {},
   "outputs": [
    {
     "data": {
      "text/plain": [
       "'12测试'"
      ]
     },
     "execution_count": 38,
     "metadata": {},
     "output_type": "execute_result"
    }
   ],
   "source": [
    "text = \"*/@》--【】--12()测试*()\"\n",
    "\n",
    "'''去除字符串中所有的字符，可增加自定义字符'''\n",
    "def strclear(text,newsign=''):\n",
    "    import string # 引入string模块\n",
    "    signtext = string.punctuation + newsign # 引入英文符号常量，可附加自定义字符，默认为空\n",
    "    signrepl = '@'*len(signtext) # 引入符号列表长度的替换字符\n",
    "    signtable = str.maketrans(signtext,signrepl) # 生成替换字符表\n",
    "    return text.translate(signtable).replace('@','') # 最后将替换字符替换为空即可\n",
    "\n",
    "strclear(text,'》【】')"
   ]
  },
  {
   "cell_type": "markdown",
   "metadata": {},
   "source": [
    "# tfidf"
   ]
  },
  {
   "cell_type": "markdown",
   "metadata": {},
   "source": [
    "- 讀檔&需要刪除的字、標點符號\n"
   ]
  },
  {
   "cell_type": "code",
   "execution_count": 152,
   "metadata": {
    "scrolled": false
   },
   "outputs": [
    {
     "ename": "UnicodeDecodeError",
     "evalue": "'cp950' codec can't decode byte 0x84 in position 69207: illegal multibyte sequence",
     "output_type": "error",
     "traceback": [
      "\u001b[1;31m---------------------------------------------------------------------------\u001b[0m",
      "\u001b[1;31mUnicodeDecodeError\u001b[0m                        Traceback (most recent call last)",
      "\u001b[1;32m<ipython-input-152-aaa90399226d>\u001b[0m in \u001b[0;36m<module>\u001b[1;34m()\u001b[0m\n\u001b[0;32m      1\u001b[0m \u001b[0mf\u001b[0m \u001b[1;33m=\u001b[0m \u001b[0mopen\u001b[0m\u001b[1;33m(\u001b[0m\u001b[1;34m'4.txt'\u001b[0m\u001b[1;33m,\u001b[0m \u001b[1;34m'r'\u001b[0m\u001b[1;33m)\u001b[0m\u001b[1;33m\u001b[0m\u001b[0m\n\u001b[1;32m----> 2\u001b[1;33m \u001b[0mddd\u001b[0m \u001b[1;33m=\u001b[0m \u001b[0mf\u001b[0m\u001b[1;33m.\u001b[0m\u001b[0mread\u001b[0m\u001b[1;33m(\u001b[0m\u001b[1;33m)\u001b[0m\u001b[1;33m\u001b[0m\u001b[0m\n\u001b[0m\u001b[0;32m      3\u001b[0m \u001b[0md1\u001b[0m \u001b[1;33m=\u001b[0m \u001b[1;34m''\u001b[0m\u001b[1;33m.\u001b[0m\u001b[0mjoin\u001b[0m\u001b[1;33m(\u001b[0m\u001b[0mf\u001b[0m\u001b[1;33m.\u001b[0m\u001b[0mread\u001b[0m\u001b[1;33m(\u001b[0m\u001b[1;33m)\u001b[0m\u001b[1;33m.\u001b[0m\u001b[0msplit\u001b[0m\u001b[1;33m(\u001b[0m\u001b[1;33m)\u001b[0m\u001b[1;33m)\u001b[0m \u001b[1;31m#刪除所有標點、空白、換行...\u001b[0m\u001b[1;33m\u001b[0m\u001b[0m\n\u001b[0;32m      4\u001b[0m \u001b[0mstopwords\u001b[0m \u001b[1;33m=\u001b[0m \u001b[1;33m[\u001b[0m\u001b[1;34m'\\n'\u001b[0m\u001b[1;33m]\u001b[0m \u001b[1;31m#不想要的字詞\u001b[0m\u001b[1;33m\u001b[0m\u001b[0m\n",
      "\u001b[1;31mUnicodeDecodeError\u001b[0m: 'cp950' codec can't decode byte 0x84 in position 69207: illegal multibyte sequence"
     ]
    }
   ],
   "source": [
    "f = open('4.txt', 'r') \n",
    "ddd = f.read()\n",
    "d1 = ''.join(f.read().split()) #刪除所有標點、空白、換行...\n",
    "stopwords = ['\\n'] #不想要的字詞\n"
   ]
  },
  {
   "cell_type": "code",
   "execution_count": 153,
   "metadata": {},
   "outputs": [
    {
     "data": {
      "text/plain": [
       "''"
      ]
     },
     "execution_count": 153,
     "metadata": {},
     "output_type": "execute_result"
    }
   ],
   "source": [
    "ddd = f.read()\n",
    "ddd"
   ]
  },
  {
   "cell_type": "markdown",
   "metadata": {},
   "source": [
    "- 斷詞"
   ]
  },
  {
   "cell_type": "code",
   "execution_count": 41,
   "metadata": {},
   "outputs": [],
   "source": [
    "d1 = jieba.cut(d1, cut_all=False) #generator"
   ]
  },
  {
   "cell_type": "markdown",
   "metadata": {},
   "source": [
    "- 擷取需要的詞並用空白座分隔不同文章"
   ]
  },
  {
   "cell_type": "code",
   "execution_count": 43,
   "metadata": {},
   "outputs": [],
   "source": [
    "d1 = list(d1)\n",
    "corpus = []\n",
    "for w in d1:\n",
    "    if  w not in stopwords:        \n",
    "        corpus.append(w)\n",
    "        \n",
    "corpus.append(\" \")\n"
   ]
  },
  {
   "cell_type": "markdown",
   "metadata": {},
   "source": [
    "- 讀取每一份(寫成函式形式)\n"
   ]
  },
  {
   "cell_type": "code",
   "execution_count": 157,
   "metadata": {},
   "outputs": [],
   "source": [
    "def read_append(n,corpus):     #n:第幾份；corpus:目前資料\n",
    "    f = open(str(n)+'.txt', 'r') \n",
    "    try:\n",
    "        d1 = strclear(''.join(f.read().split())) #存取並刪除所有標點、空白、換行...        \n",
    "        f.close()\n",
    "        d1 = ' '.join(jieba.cut(d1, cut_all=False)) #generator\n",
    "        corpus.append(d1)\n",
    "    except:\n",
    "     #   d1 = strclear(''.join(f.read().split())) #存取並刪除所有標點、空白、換行... \n",
    "     #   f.close()\n",
    "        print('error at '+str(n)+'.txt') \n",
    "    return corpus"
   ]
  },
  {
   "cell_type": "markdown",
   "metadata": {},
   "source": [
    "- 總共1-6份"
   ]
  },
  {
   "cell_type": "code",
   "execution_count": 158,
   "metadata": {
    "scrolled": true
   },
   "outputs": [
    {
     "name": "stdout",
     "output_type": "stream",
     "text": [
      "error at 3.txt\n",
      "error at 4.txt\n"
     ]
    }
   ],
   "source": [
    "corpus = []\n",
    "for n in range(1,7):    \n",
    "    corpus= read_append(n,corpus)"
   ]
  },
  {
   "cell_type": "markdown",
   "metadata": {},
   "source": [
    "- 建立vectorizer (共4份文件, 7408個詞,2份錯誤)"
   ]
  },
  {
   "cell_type": "code",
   "execution_count": 159,
   "metadata": {},
   "outputs": [
    {
     "name": "stdout",
     "output_type": "stream",
     "text": [
      "(4, 7408)\n"
     ]
    }
   ],
   "source": [
    "vectorizer = TfidfVectorizer()\n",
    "tfidf = vectorizer.fit_transform(corpus)\n",
    "print (tfidf.shape)"
   ]
  },
  {
   "cell_type": "markdown",
   "metadata": {},
   "source": [
    "- 將tfidf >1e-2 的 詞作排序"
   ]
  },
  {
   "cell_type": "code",
   "execution_count": 168,
   "metadata": {},
   "outputs": [],
   "source": [
    "words_=[]\n",
    "values_=[]"
   ]
  },
  {
   "cell_type": "code",
   "execution_count": 169,
   "metadata": {},
   "outputs": [],
   "source": [
    "dict_tfidf = {}\n",
    "words = vectorizer.get_feature_names()\n",
    "for i in range(len(corpus)):\n",
    "   # print ('----Document '+ str(i) + '----' )\n",
    "    for j in range(len(words)):\n",
    "        if tfidf[i,j] > 1e-5:\n",
    "            words_.append(words[j])\n",
    "            values_.append(tfidf[i,j])"
   ]
  },
  {
   "cell_type": "code",
   "execution_count": 170,
   "metadata": {},
   "outputs": [
    {
     "data": {
      "text/html": [
       "<div>\n",
       "<style scoped>\n",
       "    .dataframe tbody tr th:only-of-type {\n",
       "        vertical-align: middle;\n",
       "    }\n",
       "\n",
       "    .dataframe tbody tr th {\n",
       "        vertical-align: top;\n",
       "    }\n",
       "\n",
       "    .dataframe thead th {\n",
       "        text-align: right;\n",
       "    }\n",
       "</style>\n",
       "<table border=\"1\" class=\"dataframe\">\n",
       "  <thead>\n",
       "    <tr style=\"text-align: right;\">\n",
       "      <th></th>\n",
       "      <th>value</th>\n",
       "      <th>words</th>\n",
       "    </tr>\n",
       "  </thead>\n",
       "  <tbody>\n",
       "    <tr>\n",
       "      <th>7103</th>\n",
       "      <td>0.557219</td>\n",
       "      <td>公司</td>\n",
       "    </tr>\n",
       "    <tr>\n",
       "      <th>3166</th>\n",
       "      <td>0.534255</td>\n",
       "      <td>公司</td>\n",
       "    </tr>\n",
       "    <tr>\n",
       "      <th>12625</th>\n",
       "      <td>0.521829</td>\n",
       "      <td>公司</td>\n",
       "    </tr>\n",
       "    <tr>\n",
       "      <th>881</th>\n",
       "      <td>0.385819</td>\n",
       "      <td>公司</td>\n",
       "    </tr>\n",
       "    <tr>\n",
       "      <th>1026</th>\n",
       "      <td>0.292447</td>\n",
       "      <td>合併</td>\n",
       "    </tr>\n",
       "    <tr>\n",
       "      <th>13513</th>\n",
       "      <td>0.280187</td>\n",
       "      <td>年度</td>\n",
       "    </tr>\n",
       "    <tr>\n",
       "      <th>7973</th>\n",
       "      <td>0.246514</td>\n",
       "      <td>年度</td>\n",
       "    </tr>\n",
       "    <tr>\n",
       "      <th>3711</th>\n",
       "      <td>0.240454</td>\n",
       "      <td>年度</td>\n",
       "    </tr>\n",
       "    <tr>\n",
       "      <th>855</th>\n",
       "      <td>0.193790</td>\n",
       "      <td>兆利</td>\n",
       "    </tr>\n",
       "    <tr>\n",
       "      <th>1412</th>\n",
       "      <td>0.188505</td>\n",
       "      <td>有限公司</td>\n",
       "    </tr>\n",
       "    <tr>\n",
       "      <th>1484</th>\n",
       "      <td>0.188505</td>\n",
       "      <td>民國</td>\n",
       "    </tr>\n",
       "    <tr>\n",
       "      <th>4902</th>\n",
       "      <td>0.187905</td>\n",
       "      <td>金額</td>\n",
       "    </tr>\n",
       "    <tr>\n",
       "      <th>8576</th>\n",
       "      <td>0.185021</td>\n",
       "      <td>有限公司</td>\n",
       "    </tr>\n",
       "    <tr>\n",
       "      <th>1208</th>\n",
       "      <td>0.177935</td>\n",
       "      <td>年度</td>\n",
       "    </tr>\n",
       "    <tr>\n",
       "      <th>14122</th>\n",
       "      <td>0.171966</td>\n",
       "      <td>有限公司</td>\n",
       "    </tr>\n",
       "    <tr>\n",
       "      <th>3420</th>\n",
       "      <td>0.171184</td>\n",
       "      <td>合併</td>\n",
       "    </tr>\n",
       "    <tr>\n",
       "      <th>10046</th>\n",
       "      <td>0.166141</td>\n",
       "      <td>金額</td>\n",
       "    </tr>\n",
       "    <tr>\n",
       "      <th>3202</th>\n",
       "      <td>0.164019</td>\n",
       "      <td>其他</td>\n",
       "    </tr>\n",
       "    <tr>\n",
       "      <th>3911</th>\n",
       "      <td>0.163222</td>\n",
       "      <td>損益</td>\n",
       "    </tr>\n",
       "    <tr>\n",
       "      <th>4765</th>\n",
       "      <td>0.163222</td>\n",
       "      <td>資產</td>\n",
       "    </tr>\n",
       "    <tr>\n",
       "      <th>1641</th>\n",
       "      <td>0.162079</td>\n",
       "      <td>科技</td>\n",
       "    </tr>\n",
       "    <tr>\n",
       "      <th>1987</th>\n",
       "      <td>0.160317</td>\n",
       "      <td>金額</td>\n",
       "    </tr>\n",
       "    <tr>\n",
       "      <th>1257</th>\n",
       "      <td>0.155032</td>\n",
       "      <td>成本</td>\n",
       "    </tr>\n",
       "    <tr>\n",
       "      <th>15627</th>\n",
       "      <td>0.153189</td>\n",
       "      <td>金額</td>\n",
       "    </tr>\n",
       "    <tr>\n",
       "      <th>4162</th>\n",
       "      <td>0.148891</td>\n",
       "      <td>民國</td>\n",
       "    </tr>\n",
       "    <tr>\n",
       "      <th>15396</th>\n",
       "      <td>0.146270</td>\n",
       "      <td>資產</td>\n",
       "    </tr>\n",
       "    <tr>\n",
       "      <th>1880</th>\n",
       "      <td>0.144462</td>\n",
       "      <td>財務報表</td>\n",
       "    </tr>\n",
       "    <tr>\n",
       "      <th>7494</th>\n",
       "      <td>0.144025</td>\n",
       "      <td>合併</td>\n",
       "    </tr>\n",
       "    <tr>\n",
       "      <th>10400</th>\n",
       "      <td>0.143344</td>\n",
       "      <td>105</td>\n",
       "    </tr>\n",
       "    <tr>\n",
       "      <th>4726</th>\n",
       "      <td>0.141725</td>\n",
       "      <td>負債</td>\n",
       "    </tr>\n",
       "    <tr>\n",
       "      <th>...</th>\n",
       "      <td>...</td>\n",
       "      <td>...</td>\n",
       "    </tr>\n",
       "    <tr>\n",
       "      <th>12225</th>\n",
       "      <td>0.000494</td>\n",
       "      <td>二個</td>\n",
       "    </tr>\n",
       "    <tr>\n",
       "      <th>14762</th>\n",
       "      <td>0.000494</td>\n",
       "      <td>第一次</td>\n",
       "    </tr>\n",
       "    <tr>\n",
       "      <th>15411</th>\n",
       "      <td>0.000494</td>\n",
       "      <td>贅述</td>\n",
       "    </tr>\n",
       "    <tr>\n",
       "      <th>12197</th>\n",
       "      <td>0.000494</td>\n",
       "      <td>之計畫</td>\n",
       "    </tr>\n",
       "    <tr>\n",
       "      <th>15675</th>\n",
       "      <td>0.000494</td>\n",
       "      <td>閒置</td>\n",
       "    </tr>\n",
       "    <tr>\n",
       "      <th>12423</th>\n",
       "      <td>0.000494</td>\n",
       "      <td>依序</td>\n",
       "    </tr>\n",
       "    <tr>\n",
       "      <th>13812</th>\n",
       "      <td>0.000494</td>\n",
       "      <td>控制力</td>\n",
       "    </tr>\n",
       "    <tr>\n",
       "      <th>12231</th>\n",
       "      <td>0.000494</td>\n",
       "      <td>二應</td>\n",
       "    </tr>\n",
       "    <tr>\n",
       "      <th>11947</th>\n",
       "      <td>0.000494</td>\n",
       "      <td>smarthinge</td>\n",
       "    </tr>\n",
       "    <tr>\n",
       "      <th>15618</th>\n",
       "      <td>0.000494</td>\n",
       "      <td>金屬製品</td>\n",
       "    </tr>\n",
       "    <tr>\n",
       "      <th>11920</th>\n",
       "      <td>0.000494</td>\n",
       "      <td>mainsource</td>\n",
       "    </tr>\n",
       "    <tr>\n",
       "      <th>12212</th>\n",
       "      <td>0.000494</td>\n",
       "      <td>予該</td>\n",
       "    </tr>\n",
       "    <tr>\n",
       "      <th>13288</th>\n",
       "      <td>0.000494</td>\n",
       "      <td>存單</td>\n",
       "    </tr>\n",
       "    <tr>\n",
       "      <th>12588</th>\n",
       "      <td>0.000494</td>\n",
       "      <td>內含</td>\n",
       "    </tr>\n",
       "    <tr>\n",
       "      <th>13766</th>\n",
       "      <td>0.000494</td>\n",
       "      <td>抽查</td>\n",
       "    </tr>\n",
       "    <tr>\n",
       "      <th>11998</th>\n",
       "      <td>0.000494</td>\n",
       "      <td>一次</td>\n",
       "    </tr>\n",
       "    <tr>\n",
       "      <th>13906</th>\n",
       "      <td>0.000494</td>\n",
       "      <td>改良</td>\n",
       "    </tr>\n",
       "    <tr>\n",
       "      <th>12007</th>\n",
       "      <td>0.000494</td>\n",
       "      <td>一般性</td>\n",
       "    </tr>\n",
       "    <tr>\n",
       "      <th>11873</th>\n",
       "      <td>0.000494</td>\n",
       "      <td>greathinge</td>\n",
       "    </tr>\n",
       "    <tr>\n",
       "      <th>10471</th>\n",
       "      <td>0.000494</td>\n",
       "      <td>1100</td>\n",
       "    </tr>\n",
       "    <tr>\n",
       "      <th>12367</th>\n",
       "      <td>0.000494</td>\n",
       "      <td>估列數</td>\n",
       "    </tr>\n",
       "    <tr>\n",
       "      <th>15107</th>\n",
       "      <td>0.000494</td>\n",
       "      <td>蒐集</td>\n",
       "    </tr>\n",
       "    <tr>\n",
       "      <th>12023</th>\n",
       "      <td>0.000494</td>\n",
       "      <td>三年</td>\n",
       "    </tr>\n",
       "    <tr>\n",
       "      <th>15692</th>\n",
       "      <td>0.000494</td>\n",
       "      <td>阿拉伯數字</td>\n",
       "    </tr>\n",
       "    <tr>\n",
       "      <th>13710</th>\n",
       "      <td>0.000494</td>\n",
       "      <td>所訂</td>\n",
       "    </tr>\n",
       "    <tr>\n",
       "      <th>14652</th>\n",
       "      <td>0.000494</td>\n",
       "      <td>相信</td>\n",
       "    </tr>\n",
       "    <tr>\n",
       "      <th>13096</th>\n",
       "      <td>0.000494</td>\n",
       "      <td>單邊</td>\n",
       "    </tr>\n",
       "    <tr>\n",
       "      <th>14128</th>\n",
       "      <td>0.000494</td>\n",
       "      <td>期中</td>\n",
       "    </tr>\n",
       "    <tr>\n",
       "      <th>14148</th>\n",
       "      <td>0.000494</td>\n",
       "      <td>末期</td>\n",
       "    </tr>\n",
       "    <tr>\n",
       "      <th>14525</th>\n",
       "      <td>0.000494</td>\n",
       "      <td>現金餘額</td>\n",
       "    </tr>\n",
       "  </tbody>\n",
       "</table>\n",
       "<p>15874 rows × 2 columns</p>\n",
       "</div>"
      ],
      "text/plain": [
       "          value       words\n",
       "7103   0.557219          公司\n",
       "3166   0.534255          公司\n",
       "12625  0.521829          公司\n",
       "881    0.385819          公司\n",
       "1026   0.292447          合併\n",
       "13513  0.280187          年度\n",
       "7973   0.246514          年度\n",
       "3711   0.240454          年度\n",
       "855    0.193790          兆利\n",
       "1412   0.188505        有限公司\n",
       "1484   0.188505          民國\n",
       "4902   0.187905          金額\n",
       "8576   0.185021        有限公司\n",
       "1208   0.177935          年度\n",
       "14122  0.171966        有限公司\n",
       "3420   0.171184          合併\n",
       "10046  0.166141          金額\n",
       "3202   0.164019          其他\n",
       "3911   0.163222          損益\n",
       "4765   0.163222          資產\n",
       "1641   0.162079          科技\n",
       "1987   0.160317          金額\n",
       "1257   0.155032          成本\n",
       "15627  0.153189          金額\n",
       "4162   0.148891          民國\n",
       "15396  0.146270          資產\n",
       "1880   0.144462        財務報表\n",
       "7494   0.144025          合併\n",
       "10400  0.143344         105\n",
       "4726   0.141725          負債\n",
       "...         ...         ...\n",
       "12225  0.000494          二個\n",
       "14762  0.000494         第一次\n",
       "15411  0.000494          贅述\n",
       "12197  0.000494         之計畫\n",
       "15675  0.000494          閒置\n",
       "12423  0.000494          依序\n",
       "13812  0.000494         控制力\n",
       "12231  0.000494          二應\n",
       "11947  0.000494  smarthinge\n",
       "15618  0.000494        金屬製品\n",
       "11920  0.000494  mainsource\n",
       "12212  0.000494          予該\n",
       "13288  0.000494          存單\n",
       "12588  0.000494          內含\n",
       "13766  0.000494          抽查\n",
       "11998  0.000494          一次\n",
       "13906  0.000494          改良\n",
       "12007  0.000494         一般性\n",
       "11873  0.000494  greathinge\n",
       "10471  0.000494        1100\n",
       "12367  0.000494         估列數\n",
       "15107  0.000494          蒐集\n",
       "12023  0.000494          三年\n",
       "15692  0.000494       阿拉伯數字\n",
       "13710  0.000494          所訂\n",
       "14652  0.000494          相信\n",
       "13096  0.000494          單邊\n",
       "14128  0.000494          期中\n",
       "14148  0.000494          末期\n",
       "14525  0.000494        現金餘額\n",
       "\n",
       "[15874 rows x 2 columns]"
      ]
     },
     "execution_count": 170,
     "metadata": {},
     "output_type": "execute_result"
    }
   ],
   "source": [
    "frame_word = pd.Series(words_)\n",
    "frame_values = pd.Series(values_)\n",
    "data = {'words':frame_word,'value':frame_values}\n",
    "frame = pd.DataFrame(data)\n",
    "important_word = frame.sort_values(by=['value'], ascending=False)\n",
    "important_word"
   ]
  },
  {
   "cell_type": "markdown",
   "metadata": {},
   "source": []
  }
 ],
 "metadata": {
  "kernelspec": {
   "display_name": "Python 3",
   "language": "python",
   "name": "python3"
  },
  "language_info": {
   "codemirror_mode": {
    "name": "ipython",
    "version": 3
   },
   "file_extension": ".py",
   "mimetype": "text/x-python",
   "name": "python",
   "nbconvert_exporter": "python",
   "pygments_lexer": "ipython3",
   "version": "3.5.4"
  }
 },
 "nbformat": 4,
 "nbformat_minor": 2
}
