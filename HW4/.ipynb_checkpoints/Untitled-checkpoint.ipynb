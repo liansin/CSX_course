{
 "cells": [
  {
   "cell_type": "code",
   "execution_count": 1,
   "metadata": {
    "collapsed": true
   },
   "outputs": [],
   "source": [
    "import requests\n",
    "import json\n",
    "import numpy as np"
   ]
  },
  {
   "cell_type": "markdown",
   "metadata": {},
   "source": [
    "# 借由104打工網的FB 找近期的產業職缺"
   ]
  },
  {
   "cell_type": "code",
   "execution_count": 6,
   "metadata": {},
   "outputs": [],
   "source": [
    "url = \"https://graph.facebook.com/v2.12/104parttime/?fields=access_token%2Cabout%2Cposts.limit(100)&access_token=EAACEdEose0cBACzIiVX0UuERr2UyfrWtXsZAtqqFj5lXip7S8cf2npxP68wTsc9ZB8UsXxpqSmkYytXI0lmUZBR5ZCHdWXZA9ZBuGvX4126rTnxP3i7thYc2voubem5UmHDmJWnQxmsZAGDYwXIhZA8uMPB63jzKwaX49kM2ok1dC67FChNhKdlnjQOovMVC7LpTO70AuO0CHgZDZD\""
   ]
  },
  {
   "cell_type": "code",
   "execution_count": 7,
   "metadata": {
    "collapsed": true
   },
   "outputs": [],
   "source": [
    "res = requests.get(url)"
   ]
  },
  {
   "cell_type": "code",
   "execution_count": 8,
   "metadata": {},
   "outputs": [
    {
     "data": {
      "text/plain": [
       "<Response [200]>"
      ]
     },
     "execution_count": 8,
     "metadata": {},
     "output_type": "execute_result"
    }
   ],
   "source": [
    "res"
   ]
  },
  {
   "cell_type": "code",
   "execution_count": 9,
   "metadata": {
    "collapsed": true
   },
   "outputs": [],
   "source": [
    "decoder = json.JSONDecoder()\n",
    "s = decoder.decode(res.text)"
   ]
  },
  {
   "cell_type": "code",
   "execution_count": 19,
   "metadata": {},
   "outputs": [
    {
     "name": "stdout",
     "output_type": "stream",
     "text": [
      "{'created_time': '2018-03-29T09:00:00+0000', 'message': \"喜愛穿搭、打扮不可錯過👚【服飾業工讀】👕\\x08\\n你的時尚主場 Bang Bang Bang😎！\\n⭐UNIQLO https://goo.gl/7iyJp7\\n⭐GAP https://goo.gl/MD7SwL\\n⭐Levi's https://goo.gl/ujzvwr \\n⭐NET https://goo.gl/P7NGNv\\n⭐TOMMY HILFIGER https://goo.gl/YDywBB\\n⭐H：CONNECT https://goo.gl/1mDpDT\\n⭐HANG TEN https://goo.gl/SoM7bQ\\n⭐Arnold Palmer https://goo.gl/tf27ic\\n⭐SEN服飾 https://goo.gl/D55YiQ\\n⭐SWEESA https://goo.gl/j4otbv\\n⭐EYESCREAM https://goo.gl/9Cq4G6\\n⭐CALVIN KLEIN https://goo.gl/zX5585\\n\\n👉下載 https://goo.gl/UXndJh 工作等你來\\n👉報名 https://goo.gl/5MgEvN 戰力100%%%\\n\\n⭐波茵特 https://goo.gl/QtXRdt\\n⭐Oh！my girl服飾店 https://goo.gl/okdFf4\\n⭐CLUB21 https://goo.gl/dJqaRr\\n⭐MUURA https://goo.gl/8Tnwa1\\n⭐LOVFEE https://goo.gl/j4Bjt1\\n⭐MO-BO https://goo.gl/Krrzrp\\n⭐WHY AND 1/2 https://goo.gl/uM3vRR\\n⭐Crazy Bomb https://goo.gl/4xGgTm\\n⭐伊蕾服飾 https://goo.gl/v1kJsG\\n⭐ESSENCE https://goo.gl/D4dGjt\\n⭐薇風精品服飾 https://goo.gl/b6GRSq\\n\\n🈶更多服務業工讀：https://goo.gl/gVg4th\\n\\n＃學生 ＃打工 ＃兼職 ＃工讀\\n＃服飾業 ＃時尚業 \\n＃學生愛打工 ＃104人力銀行\", 'id': '199441396987_10156885680641988'}\n"
     ]
    }
   ],
   "source": [
    "print(s['posts']['data'][5])"
   ]
  },
  {
   "cell_type": "code",
   "execution_count": 18,
   "metadata": {
    "scrolled": true
   },
   "outputs": [
    {
     "name": "stdout",
     "output_type": "stream",
     "text": [
      "82\n",
      "{'created_time': '2018-03-07T02:43:25+0000', 'story': \"學生愛打工 shared 104人力銀行's post.\", 'id': '199441396987_10156818129651988'}\n",
      "91\n",
      "{'created_time': '2018-03-05T11:33:07+0000', 'story': \"學生愛打工 shared 大學生找實習's post.\", 'id': '199441396987_10156813189071988'}\n"
     ]
    }
   ],
   "source": [
    "g = []\n",
    "for i in range(100):\n",
    "    try:\n",
    "        g.append(s['posts']['data'][i]['message'])\n",
    "    except:\n",
    "        print(i) #82 91 兩篇沒內容\n",
    "        print(s['posts']['data'][i])"
   ]
  },
  {
   "cell_type": "markdown",
   "metadata": {},
   "source": [
    "- 繪製文字雲"
   ]
  },
  {
   "cell_type": "code",
   "execution_count": 20,
   "metadata": {},
   "outputs": [
    {
     "ename": "ImportError",
     "evalue": "DLL load failed: 找不到指定的模組。",
     "output_type": "error",
     "traceback": [
      "\u001b[1;31m---------------------------------------------------------------------------\u001b[0m",
      "\u001b[1;31mImportError\u001b[0m                               Traceback (most recent call last)",
      "\u001b[1;32m<ipython-input-20-8aed67ad5c6f>\u001b[0m in \u001b[0;36m<module>\u001b[1;34m()\u001b[0m\n\u001b[0;32m      1\u001b[0m \u001b[0maa\u001b[0m \u001b[1;33m=\u001b[0m \u001b[1;34m''\u001b[0m\u001b[1;33m.\u001b[0m\u001b[0mjoin\u001b[0m\u001b[1;33m(\u001b[0m\u001b[0mgg\u001b[0m\u001b[1;33m)\u001b[0m\u001b[1;33m\u001b[0m\u001b[0m\n\u001b[1;32m----> 2\u001b[1;33m \u001b[1;32mfrom\u001b[0m \u001b[0mwordcloud\u001b[0m \u001b[1;32mimport\u001b[0m \u001b[0mWordCloud\u001b[0m\u001b[1;33m\u001b[0m\u001b[0m\n\u001b[0m\u001b[0;32m      3\u001b[0m \u001b[0mwordcloud\u001b[0m \u001b[1;33m=\u001b[0m \u001b[0mWordCloud\u001b[0m\u001b[1;33m(\u001b[0m\u001b[1;33m)\u001b[0m\u001b[1;33m.\u001b[0m\u001b[0mgenerate\u001b[0m\u001b[1;33m(\u001b[0m\u001b[0maa\u001b[0m\u001b[1;33m)\u001b[0m\u001b[1;33m\u001b[0m\u001b[0m\n\u001b[0;32m      4\u001b[0m \u001b[1;32mimport\u001b[0m \u001b[0mmatplotlib\u001b[0m\u001b[1;33m.\u001b[0m\u001b[0mpyplot\u001b[0m \u001b[1;32mas\u001b[0m \u001b[0mplt\u001b[0m\u001b[1;33m\u001b[0m\u001b[0m\n\u001b[0;32m      5\u001b[0m \u001b[0mplt\u001b[0m\u001b[1;33m.\u001b[0m\u001b[0mimshow\u001b[0m\u001b[1;33m(\u001b[0m\u001b[0mwordcloud\u001b[0m\u001b[1;33m,\u001b[0m \u001b[0minterpolation\u001b[0m\u001b[1;33m=\u001b[0m\u001b[1;34m'bilinear'\u001b[0m\u001b[1;33m)\u001b[0m\u001b[1;33m\u001b[0m\u001b[0m\n",
      "\u001b[1;32m~\\Anaconda3\\lib\\site-packages\\wordcloud\\__init__.py\u001b[0m in \u001b[0;36m<module>\u001b[1;34m()\u001b[0m\n\u001b[1;32m----> 1\u001b[1;33m from .wordcloud import (WordCloud, STOPWORDS, random_color_func,\n\u001b[0m\u001b[0;32m      2\u001b[0m                         get_single_color_func)\n\u001b[0;32m      3\u001b[0m \u001b[1;32mfrom\u001b[0m \u001b[1;33m.\u001b[0m\u001b[0mcolor_from_image\u001b[0m \u001b[1;32mimport\u001b[0m \u001b[0mImageColorGenerator\u001b[0m\u001b[1;33m\u001b[0m\u001b[0m\n\u001b[0;32m      4\u001b[0m \u001b[1;33m\u001b[0m\u001b[0m\n\u001b[0;32m      5\u001b[0m __all__ = ['WordCloud', 'STOPWORDS', 'random_color_func',\n",
      "\u001b[1;32m~\\Anaconda3\\lib\\site-packages\\wordcloud\\wordcloud.py\u001b[0m in \u001b[0;36m<module>\u001b[1;34m()\u001b[0m\n\u001b[0;32m     17\u001b[0m \u001b[1;32mfrom\u001b[0m \u001b[0moperator\u001b[0m \u001b[1;32mimport\u001b[0m \u001b[0mitemgetter\u001b[0m\u001b[1;33m\u001b[0m\u001b[0m\n\u001b[0;32m     18\u001b[0m \u001b[1;33m\u001b[0m\u001b[0m\n\u001b[1;32m---> 19\u001b[1;33m \u001b[1;32mfrom\u001b[0m \u001b[0mPIL\u001b[0m \u001b[1;32mimport\u001b[0m \u001b[0mImage\u001b[0m\u001b[1;33m\u001b[0m\u001b[0m\n\u001b[0m\u001b[0;32m     20\u001b[0m \u001b[1;32mfrom\u001b[0m \u001b[0mPIL\u001b[0m \u001b[1;32mimport\u001b[0m \u001b[0mImageColor\u001b[0m\u001b[1;33m\u001b[0m\u001b[0m\n\u001b[0;32m     21\u001b[0m \u001b[1;32mfrom\u001b[0m \u001b[0mPIL\u001b[0m \u001b[1;32mimport\u001b[0m \u001b[0mImageDraw\u001b[0m\u001b[1;33m\u001b[0m\u001b[0m\n",
      "\u001b[1;32m~\\Anaconda3\\lib\\site-packages\\PIL\\Image.py\u001b[0m in \u001b[0;36m<module>\u001b[1;34m()\u001b[0m\n\u001b[0;32m     54\u001b[0m     \u001b[1;31m# Also note that Image.core is not a publicly documented interface,\u001b[0m\u001b[1;33m\u001b[0m\u001b[1;33m\u001b[0m\u001b[0m\n\u001b[0;32m     55\u001b[0m     \u001b[1;31m# and should be considered private and subject to change.\u001b[0m\u001b[1;33m\u001b[0m\u001b[1;33m\u001b[0m\u001b[0m\n\u001b[1;32m---> 56\u001b[1;33m     \u001b[1;32mfrom\u001b[0m \u001b[1;33m.\u001b[0m \u001b[1;32mimport\u001b[0m \u001b[0m_imaging\u001b[0m \u001b[1;32mas\u001b[0m \u001b[0mcore\u001b[0m\u001b[1;33m\u001b[0m\u001b[0m\n\u001b[0m\u001b[0;32m     57\u001b[0m     \u001b[1;32mif\u001b[0m \u001b[0mPILLOW_VERSION\u001b[0m \u001b[1;33m!=\u001b[0m \u001b[0mgetattr\u001b[0m\u001b[1;33m(\u001b[0m\u001b[0mcore\u001b[0m\u001b[1;33m,\u001b[0m \u001b[1;34m'PILLOW_VERSION'\u001b[0m\u001b[1;33m,\u001b[0m \u001b[1;32mNone\u001b[0m\u001b[1;33m)\u001b[0m\u001b[1;33m:\u001b[0m\u001b[1;33m\u001b[0m\u001b[0m\n\u001b[0;32m     58\u001b[0m         raise ImportError(\"The _imaging extension was built for another \"\n",
      "\u001b[1;31mImportError\u001b[0m: DLL load failed: 找不到指定的模組。"
     ]
    }
   ],
   "source": [
    "aa = ''.join(gg)\n",
    "from wordcloud import WordCloud \n",
    "wordcloud = WordCloud().generate(aa)\n",
    "import matplotlib.pyplot as plt \n",
    "plt.imshow(wordcloud, interpolation='bilinear') \n",
    "plt.axis(\"off\")"
   ]
  },
  {
   "cell_type": "code",
   "execution_count": null,
   "metadata": {
    "collapsed": true
   },
   "outputs": [],
   "source": []
  }
 ],
 "metadata": {
  "kernelspec": {
   "display_name": "Python 3",
   "language": "python",
   "name": "python3"
  },
  "language_info": {
   "codemirror_mode": {
    "name": "ipython",
    "version": 3
   },
   "file_extension": ".py",
   "mimetype": "text/x-python",
   "name": "python",
   "nbconvert_exporter": "python",
   "pygments_lexer": "ipython3",
   "version": "3.6.2"
  }
 },
 "nbformat": 4,
 "nbformat_minor": 2
}
